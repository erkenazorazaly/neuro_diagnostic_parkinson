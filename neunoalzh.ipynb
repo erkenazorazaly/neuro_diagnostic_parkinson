{
 "cells": [
  {
   "cell_type": "code",
   "execution_count": 21,
   "metadata": {
    "colab": {
     "base_uri": "https://localhost:8080/"
    },
    "id": "paqb3pomoqUM",
    "outputId": "de0442bf-5478-453f-dfcc-883908ca922e"
   },
   "outputs": [
    {
     "name": "stdout",
     "output_type": "stream",
     "text": [
      "Requirement already satisfied: tensorflow in c:\\users\\erken\\anaconda3\\lib\\site-packages (2.18.0)\n",
      "Requirement already satisfied: opencv-python in c:\\users\\erken\\anaconda3\\lib\\site-packages (4.11.0.86)\n",
      "Requirement already satisfied: mediapipe in c:\\users\\erken\\anaconda3\\lib\\site-packages (0.10.20)\n",
      "Requirement already satisfied: numpy in c:\\users\\erken\\anaconda3\\lib\\site-packages (1.26.4)\n",
      "Requirement already satisfied: pandas in c:\\users\\erken\\anaconda3\\lib\\site-packages (2.2.2)\n",
      "Requirement already satisfied: scikit-learn in c:\\users\\erken\\anaconda3\\lib\\site-packages (1.5.1)\n",
      "Requirement already satisfied: tensorflow-intel==2.18.0 in c:\\users\\erken\\anaconda3\\lib\\site-packages (from tensorflow) (2.18.0)\n",
      "Requirement already satisfied: absl-py>=1.0.0 in c:\\users\\erken\\anaconda3\\lib\\site-packages (from tensorflow-intel==2.18.0->tensorflow) (2.1.0)\n",
      "Requirement already satisfied: astunparse>=1.6.0 in c:\\users\\erken\\anaconda3\\lib\\site-packages (from tensorflow-intel==2.18.0->tensorflow) (1.6.3)\n",
      "Requirement already satisfied: flatbuffers>=24.3.25 in c:\\users\\erken\\anaconda3\\lib\\site-packages (from tensorflow-intel==2.18.0->tensorflow) (25.1.24)\n",
      "Requirement already satisfied: gast!=0.5.0,!=0.5.1,!=0.5.2,>=0.2.1 in c:\\users\\erken\\anaconda3\\lib\\site-packages (from tensorflow-intel==2.18.0->tensorflow) (0.6.0)\n",
      "Requirement already satisfied: google-pasta>=0.1.1 in c:\\users\\erken\\anaconda3\\lib\\site-packages (from tensorflow-intel==2.18.0->tensorflow) (0.2.0)\n",
      "Requirement already satisfied: libclang>=13.0.0 in c:\\users\\erken\\anaconda3\\lib\\site-packages (from tensorflow-intel==2.18.0->tensorflow) (18.1.1)\n",
      "Requirement already satisfied: opt-einsum>=2.3.2 in c:\\users\\erken\\anaconda3\\lib\\site-packages (from tensorflow-intel==2.18.0->tensorflow) (3.4.0)\n",
      "Requirement already satisfied: packaging in c:\\users\\erken\\anaconda3\\lib\\site-packages (from tensorflow-intel==2.18.0->tensorflow) (24.1)\n",
      "Requirement already satisfied: protobuf!=4.21.0,!=4.21.1,!=4.21.2,!=4.21.3,!=4.21.4,!=4.21.5,<6.0.0dev,>=3.20.3 in c:\\users\\erken\\anaconda3\\lib\\site-packages (from tensorflow-intel==2.18.0->tensorflow) (4.25.3)\n",
      "Requirement already satisfied: requests<3,>=2.21.0 in c:\\users\\erken\\anaconda3\\lib\\site-packages (from tensorflow-intel==2.18.0->tensorflow) (2.32.3)\n",
      "Requirement already satisfied: setuptools in c:\\users\\erken\\anaconda3\\lib\\site-packages (from tensorflow-intel==2.18.0->tensorflow) (75.1.0)\n",
      "Requirement already satisfied: six>=1.12.0 in c:\\users\\erken\\anaconda3\\lib\\site-packages (from tensorflow-intel==2.18.0->tensorflow) (1.16.0)\n",
      "Requirement already satisfied: termcolor>=1.1.0 in c:\\users\\erken\\anaconda3\\lib\\site-packages (from tensorflow-intel==2.18.0->tensorflow) (2.5.0)\n",
      "Requirement already satisfied: typing-extensions>=3.6.6 in c:\\users\\erken\\anaconda3\\lib\\site-packages (from tensorflow-intel==2.18.0->tensorflow) (4.11.0)\n",
      "Requirement already satisfied: wrapt>=1.11.0 in c:\\users\\erken\\anaconda3\\lib\\site-packages (from tensorflow-intel==2.18.0->tensorflow) (1.14.1)\n",
      "Requirement already satisfied: grpcio<2.0,>=1.24.3 in c:\\users\\erken\\anaconda3\\lib\\site-packages (from tensorflow-intel==2.18.0->tensorflow) (1.70.0)\n",
      "Requirement already satisfied: tensorboard<2.19,>=2.18 in c:\\users\\erken\\anaconda3\\lib\\site-packages (from tensorflow-intel==2.18.0->tensorflow) (2.18.0)\n",
      "Requirement already satisfied: keras>=3.5.0 in c:\\users\\erken\\anaconda3\\lib\\site-packages (from tensorflow-intel==2.18.0->tensorflow) (3.8.0)\n",
      "Requirement already satisfied: h5py>=3.11.0 in c:\\users\\erken\\anaconda3\\lib\\site-packages (from tensorflow-intel==2.18.0->tensorflow) (3.11.0)\n",
      "Requirement already satisfied: ml-dtypes<0.5.0,>=0.4.0 in c:\\users\\erken\\anaconda3\\lib\\site-packages (from tensorflow-intel==2.18.0->tensorflow) (0.4.1)\n",
      "Requirement already satisfied: attrs>=19.1.0 in c:\\users\\erken\\anaconda3\\lib\\site-packages (from mediapipe) (23.1.0)\n",
      "Requirement already satisfied: jax in c:\\users\\erken\\anaconda3\\lib\\site-packages (from mediapipe) (0.5.0)\n",
      "Requirement already satisfied: jaxlib in c:\\users\\erken\\anaconda3\\lib\\site-packages (from mediapipe) (0.5.0)\n",
      "Requirement already satisfied: matplotlib in c:\\users\\erken\\anaconda3\\lib\\site-packages (from mediapipe) (3.9.2)\n",
      "Requirement already satisfied: opencv-contrib-python in c:\\users\\erken\\anaconda3\\lib\\site-packages (from mediapipe) (4.11.0.86)\n",
      "Requirement already satisfied: sounddevice>=0.4.4 in c:\\users\\erken\\anaconda3\\lib\\site-packages (from mediapipe) (0.5.1)\n",
      "Requirement already satisfied: sentencepiece in c:\\users\\erken\\anaconda3\\lib\\site-packages (from mediapipe) (0.2.0)\n",
      "Requirement already satisfied: python-dateutil>=2.8.2 in c:\\users\\erken\\anaconda3\\lib\\site-packages (from pandas) (2.9.0.post0)\n",
      "Requirement already satisfied: pytz>=2020.1 in c:\\users\\erken\\anaconda3\\lib\\site-packages (from pandas) (2024.1)\n",
      "Requirement already satisfied: tzdata>=2022.7 in c:\\users\\erken\\anaconda3\\lib\\site-packages (from pandas) (2023.3)\n",
      "Requirement already satisfied: scipy>=1.6.0 in c:\\users\\erken\\anaconda3\\lib\\site-packages (from scikit-learn) (1.13.1)\n",
      "Requirement already satisfied: joblib>=1.2.0 in c:\\users\\erken\\anaconda3\\lib\\site-packages (from scikit-learn) (1.4.2)\n",
      "Requirement already satisfied: threadpoolctl>=3.1.0 in c:\\users\\erken\\anaconda3\\lib\\site-packages (from scikit-learn) (3.5.0)\n",
      "Requirement already satisfied: CFFI>=1.0 in c:\\users\\erken\\anaconda3\\lib\\site-packages (from sounddevice>=0.4.4->mediapipe) (1.17.1)\n",
      "Requirement already satisfied: contourpy>=1.0.1 in c:\\users\\erken\\anaconda3\\lib\\site-packages (from matplotlib->mediapipe) (1.2.0)\n",
      "Requirement already satisfied: cycler>=0.10 in c:\\users\\erken\\anaconda3\\lib\\site-packages (from matplotlib->mediapipe) (0.11.0)\n",
      "Requirement already satisfied: fonttools>=4.22.0 in c:\\users\\erken\\anaconda3\\lib\\site-packages (from matplotlib->mediapipe) (4.51.0)\n",
      "Requirement already satisfied: kiwisolver>=1.3.1 in c:\\users\\erken\\anaconda3\\lib\\site-packages (from matplotlib->mediapipe) (1.4.4)\n",
      "Requirement already satisfied: pillow>=8 in c:\\users\\erken\\anaconda3\\lib\\site-packages (from matplotlib->mediapipe) (10.4.0)\n",
      "Requirement already satisfied: pyparsing>=2.3.1 in c:\\users\\erken\\anaconda3\\lib\\site-packages (from matplotlib->mediapipe) (3.1.2)\n",
      "Requirement already satisfied: wheel<1.0,>=0.23.0 in c:\\users\\erken\\anaconda3\\lib\\site-packages (from astunparse>=1.6.0->tensorflow-intel==2.18.0->tensorflow) (0.44.0)\n",
      "Requirement already satisfied: pycparser in c:\\users\\erken\\anaconda3\\lib\\site-packages (from CFFI>=1.0->sounddevice>=0.4.4->mediapipe) (2.21)\n",
      "Requirement already satisfied: rich in c:\\users\\erken\\anaconda3\\lib\\site-packages (from keras>=3.5.0->tensorflow-intel==2.18.0->tensorflow) (13.7.1)\n",
      "Requirement already satisfied: namex in c:\\users\\erken\\anaconda3\\lib\\site-packages (from keras>=3.5.0->tensorflow-intel==2.18.0->tensorflow) (0.0.8)\n",
      "Requirement already satisfied: optree in c:\\users\\erken\\anaconda3\\lib\\site-packages (from keras>=3.5.0->tensorflow-intel==2.18.0->tensorflow) (0.14.0)\n",
      "Requirement already satisfied: charset-normalizer<4,>=2 in c:\\users\\erken\\anaconda3\\lib\\site-packages (from requests<3,>=2.21.0->tensorflow-intel==2.18.0->tensorflow) (3.3.2)\n",
      "Requirement already satisfied: idna<4,>=2.5 in c:\\users\\erken\\anaconda3\\lib\\site-packages (from requests<3,>=2.21.0->tensorflow-intel==2.18.0->tensorflow) (3.7)\n",
      "Requirement already satisfied: urllib3<3,>=1.21.1 in c:\\users\\erken\\anaconda3\\lib\\site-packages (from requests<3,>=2.21.0->tensorflow-intel==2.18.0->tensorflow) (2.2.3)\n",
      "Requirement already satisfied: certifi>=2017.4.17 in c:\\users\\erken\\anaconda3\\lib\\site-packages (from requests<3,>=2.21.0->tensorflow-intel==2.18.0->tensorflow) (2024.12.14)\n",
      "Requirement already satisfied: markdown>=2.6.8 in c:\\users\\erken\\anaconda3\\lib\\site-packages (from tensorboard<2.19,>=2.18->tensorflow-intel==2.18.0->tensorflow) (3.4.1)\n",
      "Requirement already satisfied: tensorboard-data-server<0.8.0,>=0.7.0 in c:\\users\\erken\\anaconda3\\lib\\site-packages (from tensorboard<2.19,>=2.18->tensorflow-intel==2.18.0->tensorflow) (0.7.2)\n",
      "Requirement already satisfied: werkzeug>=1.0.1 in c:\\users\\erken\\anaconda3\\lib\\site-packages (from tensorboard<2.19,>=2.18->tensorflow-intel==2.18.0->tensorflow) (3.0.3)\n",
      "Requirement already satisfied: MarkupSafe>=2.1.1 in c:\\users\\erken\\anaconda3\\lib\\site-packages (from werkzeug>=1.0.1->tensorboard<2.19,>=2.18->tensorflow-intel==2.18.0->tensorflow) (2.1.3)\n",
      "Requirement already satisfied: markdown-it-py>=2.2.0 in c:\\users\\erken\\anaconda3\\lib\\site-packages (from rich->keras>=3.5.0->tensorflow-intel==2.18.0->tensorflow) (2.2.0)\n",
      "Requirement already satisfied: pygments<3.0.0,>=2.13.0 in c:\\users\\erken\\anaconda3\\lib\\site-packages (from rich->keras>=3.5.0->tensorflow-intel==2.18.0->tensorflow) (2.15.1)\n",
      "Requirement already satisfied: mdurl~=0.1 in c:\\users\\erken\\anaconda3\\lib\\site-packages (from markdown-it-py>=2.2.0->rich->keras>=3.5.0->tensorflow-intel==2.18.0->tensorflow) (0.1.0)\n",
      "Note: you may need to restart the kernel to use updated packages.\n"
     ]
    }
   ],
   "source": [
    "pip install tensorflow opencv-python mediapipe numpy pandas scikit-learn\n"
   ]
  },
  {
   "cell_type": "code",
   "execution_count": 22,
   "metadata": {},
   "outputs": [
    {
     "name": "stdout",
     "output_type": "stream",
     "text": [
      "Датасет сохранён!\n"
     ]
    }
   ],
   "source": [
    "# Импорт необходимых библиотек\n",
    "import cv2\n",
    "import mediapipe as mp\n",
    "import numpy as np\n",
    "import os\n",
    "import pandas as pd\n",
    "import tensorflow as tf\n",
    "from sklearn.model_selection import train_test_split\n",
    "from sklearn.preprocessing import StandardScaler\n",
    "\n",
    "# ---------------------------\n",
    "# 1. Функция для извлечения ключевых точек рук с дополнительными признаками\n",
    "# ---------------------------\n",
    "def extract_hand_keypoints(video_path):\n",
    "    \"\"\"\n",
    "    Извлекает ключевые точки рук из видео с помощью Mediapipe Hands.\n",
    "    Если обнаружено несколько рук, усредняет координаты.\n",
    "    Добавляет дополнительные признаки:\n",
    "      - Среднее расстояние от запястья (первой точки) до остальных.\n",
    "      - Стандартное отклонение этих расстояний.\n",
    "    Итоговый вектор признаков имеет размер 44 (42 координаты + 2 дополнительных признака).\n",
    "    \"\"\"\n",
    "    mp_hands = mp.solutions.hands\n",
    "    hands = mp_hands.Hands(static_image_mode=False, max_num_hands=2, min_detection_confidence=0.5)\n",
    "    all_features = []\n",
    "\n",
    "    cap = cv2.VideoCapture(video_path)\n",
    "    while cap.isOpened():\n",
    "        ret, frame = cap.read()\n",
    "        if not ret:\n",
    "            break\n",
    "\n",
    "        # Преобразуем кадр в RGB\n",
    "        frame_rgb = cv2.cvtColor(frame, cv2.COLOR_BGR2RGB)\n",
    "        results = hands.process(frame_rgb)\n",
    "\n",
    "        if results.multi_hand_landmarks:\n",
    "            hand_coords = []\n",
    "            # Собираем координаты для всех обнаруженных рук\n",
    "            for hand_landmarks in results.multi_hand_landmarks:\n",
    "                coords = [landmark.x for landmark in hand_landmarks.landmark] + [landmark.y for landmark in hand_landmarks.landmark]\n",
    "                hand_coords.append(coords)\n",
    "            # Усредняем координаты, если найдено несколько рук\n",
    "            avg_coords = np.mean(np.array(hand_coords), axis=0)\n",
    "        else:\n",
    "            # Если не найдены руки, заполняем нулями\n",
    "            avg_coords = np.zeros(42)\n",
    "\n",
    "        # Вычисляем дополнительные признаки (используем только одну руку, так как avg_coords имеет 42 элемента)\n",
    "        # Предполагаем, что первые 21 значения – координаты x, следующие 21 – координаты y.\n",
    "        x_coords = avg_coords[:21]\n",
    "        y_coords = avg_coords[21:]\n",
    "        wrist = np.array([x_coords[0], y_coords[0]])\n",
    "        distances = []\n",
    "        for i in range(1, 21):\n",
    "            point = np.array([x_coords[i], y_coords[i]])\n",
    "            distances.append(np.linalg.norm(point - wrist))\n",
    "        avg_distance = np.mean(distances)\n",
    "        std_distance = np.std(distances)\n",
    "\n",
    "        # Объединяем исходные координаты с дополнительными признаками\n",
    "        features = np.concatenate([avg_coords, [avg_distance, std_distance]])\n",
    "        all_features.append(features)\n",
    "    \n",
    "    cap.release()\n",
    "    return np.array(all_features)\n",
    "\n",
    "# ---------------------------\n",
    "# 2. Построение датасета\n",
    "# ---------------------------\n",
    "# Пути к папкам с видео для двух классов:\n",
    "healthy_videos = \"videos/healthy\"\n",
    "diseased_videos = \"videos/tapping\"  # Здесь должны быть видео людей с когнитивными нарушениями\n",
    "\n",
    "data = []\n",
    "labels = []\n",
    "\n",
    "# Обработка видео здоровых людей (метка 0)\n",
    "for video_file in os.listdir(healthy_videos):\n",
    "    video_path = os.path.join(healthy_videos, video_file)\n",
    "    keypoints = extract_hand_keypoints(video_path)\n",
    "    for frame_features in keypoints:\n",
    "        data.append(frame_features)\n",
    "        labels.append(0)\n",
    "\n",
    "# Обработка видео больных (метка 1)\n",
    "for video_file in os.listdir(diseased_videos):\n",
    "    video_path = os.path.join(diseased_videos, video_file)\n",
    "    keypoints = extract_hand_keypoints(video_path)\n",
    "    for frame_features in keypoints:\n",
    "        data.append(frame_features)\n",
    "        labels.append(1)\n",
    "\n",
    "# Сохранение датасета в CSV\n",
    "df = pd.DataFrame(data)\n",
    "df['label'] = labels\n",
    "df.to_csv(\"hand_dataset.csv\", index=False)\n",
    "print(\"Датасет сохранён!\")\n",
    "\n",
    "# ---------------------------\n",
    "# 3. Подготовка данных для обучения\n",
    "# ---------------------------\n",
    "df = pd.read_csv(\"hand_dataset.csv\")\n",
    "X = df.iloc[:, :-1].values  # Размерность (N, 44)\n",
    "y = df['label'].values\n",
    "\n",
    "# Нормализация данных\n",
    "scaler = StandardScaler()\n",
    "X = scaler.fit_transform(X)"
   ]
  },
  {
   "cell_type": "code",
   "execution_count": 23,
   "metadata": {},
   "outputs": [
    {
     "name": "stdout",
     "output_type": "stream",
     "text": [
      "Epoch 1/100\n",
      "\u001b[1m198/198\u001b[0m \u001b[32m━━━━━━━━━━━━━━━━━━━━\u001b[0m\u001b[37m\u001b[0m \u001b[1m4s\u001b[0m 6ms/step - accuracy: 0.7519 - loss: 0.5113 - val_accuracy: 0.9632 - val_loss: 0.1074 - learning_rate: 0.0010\n",
      "Epoch 2/100\n",
      "\u001b[1m198/198\u001b[0m \u001b[32m━━━━━━━━━━━━━━━━━━━━\u001b[0m\u001b[37m\u001b[0m \u001b[1m1s\u001b[0m 6ms/step - accuracy: 0.9228 - loss: 0.1938 - val_accuracy: 0.9848 - val_loss: 0.0399 - learning_rate: 0.0010\n",
      "Epoch 3/100\n",
      "\u001b[1m198/198\u001b[0m \u001b[32m━━━━━━━━━━━━━━━━━━━━\u001b[0m\u001b[37m\u001b[0m \u001b[1m1s\u001b[0m 6ms/step - accuracy: 0.9552 - loss: 0.1314 - val_accuracy: 0.9873 - val_loss: 0.0269 - learning_rate: 0.0010\n",
      "Epoch 4/100\n",
      "\u001b[1m198/198\u001b[0m \u001b[32m━━━━━━━━━━━━━━━━━━━━\u001b[0m\u001b[37m\u001b[0m \u001b[1m1s\u001b[0m 5ms/step - accuracy: 0.9648 - loss: 0.1058 - val_accuracy: 0.9810 - val_loss: 0.0333 - learning_rate: 0.0010\n",
      "Epoch 5/100\n",
      "\u001b[1m198/198\u001b[0m \u001b[32m━━━━━━━━━━━━━━━━━━━━\u001b[0m\u001b[37m\u001b[0m \u001b[1m1s\u001b[0m 5ms/step - accuracy: 0.9622 - loss: 0.1027 - val_accuracy: 0.9816 - val_loss: 0.0272 - learning_rate: 0.0010\n",
      "Epoch 6/100\n",
      "\u001b[1m198/198\u001b[0m \u001b[32m━━━━━━━━━━━━━━━━━━━━\u001b[0m\u001b[37m\u001b[0m \u001b[1m1s\u001b[0m 4ms/step - accuracy: 0.9712 - loss: 0.0755 - val_accuracy: 0.9791 - val_loss: 0.0333 - learning_rate: 0.0010\n",
      "Epoch 7/100\n",
      "\u001b[1m198/198\u001b[0m \u001b[32m━━━━━━━━━━━━━━━━━━━━\u001b[0m\u001b[37m\u001b[0m \u001b[1m1s\u001b[0m 5ms/step - accuracy: 0.9722 - loss: 0.0785 - val_accuracy: 0.9873 - val_loss: 0.0223 - learning_rate: 0.0010\n",
      "Epoch 8/100\n",
      "\u001b[1m198/198\u001b[0m \u001b[32m━━━━━━━━━━━━━━━━━━━━\u001b[0m\u001b[37m\u001b[0m \u001b[1m1s\u001b[0m 6ms/step - accuracy: 0.9805 - loss: 0.0588 - val_accuracy: 0.9867 - val_loss: 0.0253 - learning_rate: 0.0010\n",
      "Epoch 9/100\n",
      "\u001b[1m198/198\u001b[0m \u001b[32m━━━━━━━━━━━━━━━━━━━━\u001b[0m\u001b[37m\u001b[0m \u001b[1m1s\u001b[0m 6ms/step - accuracy: 0.9768 - loss: 0.0722 - val_accuracy: 0.9867 - val_loss: 0.0242 - learning_rate: 0.0010\n",
      "Epoch 10/100\n",
      "\u001b[1m198/198\u001b[0m \u001b[32m━━━━━━━━━━━━━━━━━━━━\u001b[0m\u001b[37m\u001b[0m \u001b[1m1s\u001b[0m 5ms/step - accuracy: 0.9768 - loss: 0.0620 - val_accuracy: 0.9816 - val_loss: 0.0249 - learning_rate: 0.0010\n",
      "Epoch 11/100\n",
      "\u001b[1m198/198\u001b[0m \u001b[32m━━━━━━━━━━━━━━━━━━━━\u001b[0m\u001b[37m\u001b[0m \u001b[1m1s\u001b[0m 5ms/step - accuracy: 0.9742 - loss: 0.0793 - val_accuracy: 0.9867 - val_loss: 0.0250 - learning_rate: 0.0010\n",
      "Epoch 12/100\n",
      "\u001b[1m198/198\u001b[0m \u001b[32m━━━━━━━━━━━━━━━━━━━━\u001b[0m\u001b[37m\u001b[0m \u001b[1m1s\u001b[0m 5ms/step - accuracy: 0.9734 - loss: 0.0627 - val_accuracy: 0.9867 - val_loss: 0.0263 - learning_rate: 0.0010\n",
      "Epoch 13/100\n",
      "\u001b[1m198/198\u001b[0m \u001b[32m━━━━━━━━━━━━━━━━━━━━\u001b[0m\u001b[37m\u001b[0m \u001b[1m1s\u001b[0m 5ms/step - accuracy: 0.9795 - loss: 0.0563 - val_accuracy: 0.9873 - val_loss: 0.0228 - learning_rate: 5.0000e-04\n",
      "Epoch 14/100\n",
      "\u001b[1m198/198\u001b[0m \u001b[32m━━━━━━━━━━━━━━━━━━━━\u001b[0m\u001b[37m\u001b[0m \u001b[1m1s\u001b[0m 5ms/step - accuracy: 0.9819 - loss: 0.0457 - val_accuracy: 0.9867 - val_loss: 0.0227 - learning_rate: 5.0000e-04\n",
      "Epoch 15/100\n",
      "\u001b[1m198/198\u001b[0m \u001b[32m━━━━━━━━━━━━━━━━━━━━\u001b[0m\u001b[37m\u001b[0m \u001b[1m1s\u001b[0m 5ms/step - accuracy: 0.9842 - loss: 0.0456 - val_accuracy: 0.9867 - val_loss: 0.0231 - learning_rate: 5.0000e-04\n",
      "Epoch 16/100\n",
      "\u001b[1m198/198\u001b[0m \u001b[32m━━━━━━━━━━━━━━━━━━━━\u001b[0m\u001b[37m\u001b[0m \u001b[1m1s\u001b[0m 5ms/step - accuracy: 0.9779 - loss: 0.0514 - val_accuracy: 0.9867 - val_loss: 0.0240 - learning_rate: 5.0000e-04\n",
      "Epoch 17/100\n",
      "\u001b[1m198/198\u001b[0m \u001b[32m━━━━━━━━━━━━━━━━━━━━\u001b[0m\u001b[37m\u001b[0m \u001b[1m1s\u001b[0m 5ms/step - accuracy: 0.9848 - loss: 0.0457 - val_accuracy: 0.9873 - val_loss: 0.0217 - learning_rate: 5.0000e-04\n",
      "Epoch 18/100\n",
      "\u001b[1m198/198\u001b[0m \u001b[32m━━━━━━━━━━━━━━━━━━━━\u001b[0m\u001b[37m\u001b[0m \u001b[1m1s\u001b[0m 5ms/step - accuracy: 0.9860 - loss: 0.0380 - val_accuracy: 0.9867 - val_loss: 0.0223 - learning_rate: 5.0000e-04\n",
      "Epoch 19/100\n",
      "\u001b[1m198/198\u001b[0m \u001b[32m━━━━━━━━━━━━━━━━━━━━\u001b[0m\u001b[37m\u001b[0m \u001b[1m1s\u001b[0m 5ms/step - accuracy: 0.9826 - loss: 0.0526 - val_accuracy: 0.9867 - val_loss: 0.0223 - learning_rate: 5.0000e-04\n",
      "Epoch 20/100\n",
      "\u001b[1m198/198\u001b[0m \u001b[32m━━━━━━━━━━━━━━━━━━━━\u001b[0m\u001b[37m\u001b[0m \u001b[1m1s\u001b[0m 5ms/step - accuracy: 0.9849 - loss: 0.0439 - val_accuracy: 0.9867 - val_loss: 0.0229 - learning_rate: 5.0000e-04\n",
      "Epoch 21/100\n",
      "\u001b[1m198/198\u001b[0m \u001b[32m━━━━━━━━━━━━━━━━━━━━\u001b[0m\u001b[37m\u001b[0m \u001b[1m1s\u001b[0m 5ms/step - accuracy: 0.9813 - loss: 0.0504 - val_accuracy: 0.9867 - val_loss: 0.0229 - learning_rate: 5.0000e-04\n",
      "Epoch 22/100\n",
      "\u001b[1m198/198\u001b[0m \u001b[32m━━━━━━━━━━━━━━━━━━━━\u001b[0m\u001b[37m\u001b[0m \u001b[1m1s\u001b[0m 5ms/step - accuracy: 0.9850 - loss: 0.0358 - val_accuracy: 0.9867 - val_loss: 0.0229 - learning_rate: 5.0000e-04\n",
      "Epoch 23/100\n",
      "\u001b[1m198/198\u001b[0m \u001b[32m━━━━━━━━━━━━━━━━━━━━\u001b[0m\u001b[37m\u001b[0m \u001b[1m1s\u001b[0m 5ms/step - accuracy: 0.9884 - loss: 0.0321 - val_accuracy: 0.9867 - val_loss: 0.0229 - learning_rate: 2.5000e-04\n",
      "Epoch 24/100\n",
      "\u001b[1m198/198\u001b[0m \u001b[32m━━━━━━━━━━━━━━━━━━━━\u001b[0m\u001b[37m\u001b[0m \u001b[1m1s\u001b[0m 5ms/step - accuracy: 0.9865 - loss: 0.0415 - val_accuracy: 0.9867 - val_loss: 0.0242 - learning_rate: 2.5000e-04\n",
      "Epoch 25/100\n",
      "\u001b[1m198/198\u001b[0m \u001b[32m━━━━━━━━━━━━━━━━━━━━\u001b[0m\u001b[37m\u001b[0m \u001b[1m1s\u001b[0m 5ms/step - accuracy: 0.9842 - loss: 0.0412 - val_accuracy: 0.9867 - val_loss: 0.0239 - learning_rate: 2.5000e-04\n",
      "Epoch 26/100\n",
      "\u001b[1m198/198\u001b[0m \u001b[32m━━━━━━━━━━━━━━━━━━━━\u001b[0m\u001b[37m\u001b[0m \u001b[1m1s\u001b[0m 5ms/step - accuracy: 0.9856 - loss: 0.0372 - val_accuracy: 0.9867 - val_loss: 0.0234 - learning_rate: 2.5000e-04\n",
      "Epoch 27/100\n",
      "\u001b[1m198/198\u001b[0m \u001b[32m━━━━━━━━━━━━━━━━━━━━\u001b[0m\u001b[37m\u001b[0m \u001b[1m1s\u001b[0m 5ms/step - accuracy: 0.9849 - loss: 0.0383 - val_accuracy: 0.9867 - val_loss: 0.0227 - learning_rate: 2.5000e-04\n",
      "\u001b[1m62/62\u001b[0m \u001b[32m━━━━━━━━━━━━━━━━━━━━\u001b[0m\u001b[37m\u001b[0m \u001b[1m0s\u001b[0m 2ms/step - accuracy: 0.9807 - loss: 0.0279\n",
      "Точность на тестовых данных: 98.48%\n"
     ]
    },
    {
     "data": {
      "image/png": "[encoded data removed]",
      "text/plain": [
       "<Figure size 1200x500 with 2 Axes>"
      ]
     },
     "metadata": {},
     "output_type": "display_data"
    }
   ],
   "source": [
    "# 1. Подготовка данных (предполагается, что данные уже загружены и нормализованы)\n",
    "df = pd.read_csv(\"hand_dataset.csv\")\n",
    "X = df.iloc[:, :-1].values  # Признаки: размер (N, 44)\n",
    "y = df['label'].values       # Метки классов\n",
    "\n",
    "scaler = StandardScaler()\n",
    "X = scaler.fit_transform(X)\n",
    "\n",
    "X_train, X_test, y_train, y_test = train_test_split(\n",
    "    X, y, test_size=0.2, random_state=42, stratify=y\n",
    ")\n",
    "\n",
    "# 2. Определение мощной архитектуры модели\n",
    "from tensorflow.keras.callbacks import EarlyStopping, ReduceLROnPlateau\n",
    "\n",
    "model = tf.keras.Sequential([\n",
    "    tf.keras.layers.Input(shape=(X_train.shape[1],)),\n",
    "\n",
    "    # Первый скрытый слой\n",
    "    tf.keras.layers.Dense(512, activation='relu'),\n",
    "    tf.keras.layers.BatchNormalization(),\n",
    "    tf.keras.layers.Dropout(0.5),\n",
    "\n",
    "    # Второй скрытый слой\n",
    "    tf.keras.layers.Dense(256, activation='relu'),\n",
    "    tf.keras.layers.BatchNormalization(),\n",
    "    tf.keras.layers.Dropout(0.5),\n",
    "\n",
    "    # Третий скрытый слой\n",
    "    tf.keras.layers.Dense(128, activation='relu'),\n",
    "    tf.keras.layers.BatchNormalization(),\n",
    "    tf.keras.layers.Dropout(0.4),\n",
    "\n",
    "    # Четвёртый скрытый слой\n",
    "    tf.keras.layers.Dense(64, activation='relu'),\n",
    "    tf.keras.layers.BatchNormalization(),\n",
    "    tf.keras.layers.Dropout(0.4),\n",
    "\n",
    "    # Пятый скрытый слой\n",
    "    tf.keras.layers.Dense(32, activation='relu'),\n",
    "    tf.keras.layers.BatchNormalization(),\n",
    "    tf.keras.layers.Dropout(0.3),\n",
    "\n",
    "    # Выходной слой\n",
    "    tf.keras.layers.Dense(1, activation='sigmoid')\n",
    "])\n",
    "\n",
    "model.compile(optimizer='adam',\n",
    "              loss='binary_crossentropy',\n",
    "              metrics=['accuracy'])\n",
    "\n",
    "# 3. Колбэки для динамической настройки обучения\n",
    "early_stop = EarlyStopping(monitor='val_loss', patience=10, restore_best_weights=True)\n",
    "reduce_lr = ReduceLROnPlateau(monitor='val_loss', factor=0.5, patience=5, min_lr=1e-6)\n",
    "\n",
    "# 4. Обучение модели (увеличено число эпох для длительного обучения)\n",
    "history = model.fit(\n",
    "    X_train, y_train,\n",
    "    epochs=100,             # можно увеличить количество эпох\n",
    "    batch_size=32,\n",
    "    validation_split=0.2,\n",
    "    callbacks=[early_stop, reduce_lr]\n",
    ")\n",
    "\n",
    "# 5. Оценка модели на тестовых данных\n",
    "loss, accuracy = model.evaluate(X_test, y_test)\n",
    "print(f\"Точность на тестовых данных: {accuracy * 100:.2f}%\")\n",
    "\n",
    "# 6. Построение графиков обучения\n",
    "import matplotlib.pyplot as plt\n",
    "\n",
    "plt.figure(figsize=(12, 5))\n",
    "\n",
    "plt.subplot(1, 2, 1)\n",
    "plt.plot(history.history['loss'], label='train loss')\n",
    "plt.plot(history.history['val_loss'], label='val loss')\n",
    "plt.title('Dependence of error on epochs')\n",
    "plt.xlabel('Epoch')\n",
    "plt.ylabel('Error')\n",
    "plt.legend()\n",
    "\n",
    "plt.subplot(1, 2, 2)\n",
    "plt.plot(history.history['accuracy'], label='train accuracy')\n",
    "plt.plot(history.history['val_accuracy'], label='val accuracy')\n",
    "plt.title('Accuracy dependence on epochs')\n",
    "plt.xlabel('Epoch')\n",
    "plt.ylabel('Accuracy')\n",
    "plt.legend()\n",
    "\n",
    "plt.show()"
   ]
  },
  {
   "cell_type": "code",
   "execution_count": 24,
   "metadata": {},
   "outputs": [
    {
     "name": "stdout",
     "output_type": "stream",
     "text": [
      "\u001b[1m15/15\u001b[0m \u001b[32m━━━━━━━━━━━━━━━━━━━━\u001b[0m\u001b[37m\u001b[0m \u001b[1m0s\u001b[0m 8ms/step\n",
      "Среднее предсказание: 0.26\n",
      "Низкая вероятность когнитивного нарушения\n",
      "Диагноз: низкая вероятность когнитивного нарушения.\n"
     ]
    }
   ],
   "source": [
    "# Предполагается, что функции extract_hand_keypoints и predict_for_video,\n",
    "# а также обученная модель (model) и нормализатор (scaler) уже определены.\n",
    "\n",
    "# Функция для предсказания для видео (если её ещё нет в коде)\n",
    "def predict_for_video(video_path, model, scaler):\n",
    "    test_keypoints = extract_hand_keypoints(video_path)\n",
    "    # Удаляем кадры, где нет данных (все нули)\n",
    "    test_keypoints = [frame for frame in test_keypoints if not np.all(frame == 0)]\n",
    "    if len(test_keypoints) == 0:\n",
    "        print(\"Не удалось извлечь ключевые точки из видео.\")\n",
    "        return None\n",
    "    test_keypoints = scaler.transform(np.array(test_keypoints))\n",
    "    predictions = model.predict(test_keypoints)\n",
    "    avg_prediction = predictions.mean()\n",
    "    print(f\"Среднее предсказание: {avg_prediction:.2f}\")\n",
    "    if avg_prediction > 0.5:\n",
    "        print(\"Высокая вероятность когнитивного нарушения\")\n",
    "    else:\n",
    "        print(\"Низкая вероятность когнитивного нарушения\")\n",
    "    return avg_prediction\n",
    "\n",
    "# Ввод пути к видео пользователем\n",
    "video_path = \"healthy_video_1.mp4\"\n",
    "\n",
    "# Получение предсказания\n",
    "result = predict_for_video(video_path, model, scaler)\n",
    "\n",
    "# Дополнительная обработка результата (если необходимо)\n",
    "if result is not None:\n",
    "    if result > 0.5:\n",
    "        print(\"Диагноз: высокая вероятность когнитивного нарушения.\")\n",
    "    else:\n",
    "        print(\"Диагноз: низкая вероятность когнитивного нарушения.\")\n"
   ]
  },
  {
   "cell_type": "code",
   "execution_count": 30,
   "metadata": {},
   "outputs": [
    {
     "name": "stderr",
     "output_type": "stream",
     "text": [
      "WARNING:absl:You are saving your model as an HDF5 file via `model.save()` or `keras.saving.save_model(model)`. This file format is considered legacy. We recommend using instead the native Keras format, e.g. `model.save('my_model.keras')` or `keras.saving.save_model(model, 'my_model.keras')`. \n"
     ]
    }
   ],
   "source": [
    "model.save(\"model.h5\")"
   ]
  },
  {
   "cell_type": "code",
   "execution_count": 31,
   "metadata": {},
   "outputs": [
    {
     "data": {
      "text/plain": [
       "['scaler.pkl']"
      ]
     },
     "execution_count": 31,
     "metadata": {},
     "output_type": "execute_result"
    }
   ],
   "source": [
    "import joblib\n",
    "joblib.dump(scaler, 'scaler.pkl')"
   ]
  },
  {
   "cell_type": "code",
   "execution_count": 25,
   "metadata": {},
   "outputs": [
    {
     "name": "stdout",
     "output_type": "stream",
     "text": [
      "\u001b[1m36/36\u001b[0m \u001b[32m━━━━━━━━━━━━━━━━━━━━\u001b[0m\u001b[37m\u001b[0m \u001b[1m0s\u001b[0m 3ms/step\n",
      "Среднее предсказание: 1.00\n",
      "Высокая вероятность когнитивного нарушения\n"
     ]
    }
   ],
   "source": [
    "video_path = \"parkinson_test_1.mp4\"\n",
    "result = predict_for_video(video_path, model, scaler)"
   ]
  },
  {
   "cell_type": "code",
   "execution_count": 29,
   "metadata": {},
   "outputs": [
    {
     "name": "stdout",
     "output_type": "stream",
     "text": [
      "\u001b[1m8/8\u001b[0m \u001b[32m━━━━━━━━━━━━━━━━━━━━\u001b[0m\u001b[37m\u001b[0m \u001b[1m0s\u001b[0m 6ms/step \n",
      "Среднее предсказание: 0.00\n",
      "Низкая вероятность когнитивного нарушения\n"
     ]
    }
   ],
   "source": [
    "video_path = \"healthy_test_1.mp4\"\n",
    "result = predict_for_video(video_path, model, scaler)"
   ]
  },
  {
   "cell_type": "code",
   "execution_count": 27,
   "metadata": {},
   "outputs": [
    {
     "name": "stdout",
     "output_type": "stream",
     "text": [
      "\u001b[1m5/5\u001b[0m \u001b[32m━━━━━━━━━━━━━━━━━━━━\u001b[0m\u001b[37m\u001b[0m \u001b[1m0s\u001b[0m 6ms/step \n",
      "Среднее предсказание: 1.00\n",
      "Высокая вероятность когнитивного нарушения\n"
     ]
    }
   ],
   "source": [
    "video_path = \"parkinson_test_3.mp4\"\n",
    "result = predict_for_video(video_path, model, scaler)"
   ]
  },
  {
   "cell_type": "code",
   "execution_count": 28,
   "metadata": {},
   "outputs": [
    {
     "name": "stdout",
     "output_type": "stream",
     "text": [
      "\u001b[1m17/17\u001b[0m \u001b[32m━━━━━━━━━━━━━━━━━━━━\u001b[0m\u001b[37m\u001b[0m \u001b[1m0s\u001b[0m 4ms/step\n",
      "Среднее предсказание: 0.92\n",
      "Высокая вероятность когнитивного нарушения\n"
     ]
    }
   ],
   "source": [
    "video_path = \"parkinson_test_4.mp4\"\n",
    "result = predict_for_video(video_path, model, scaler)"
   ]
  },
  {
   "cell_type": "code",
   "execution_count": null,
   "metadata": {},
   "outputs": [],
   "source": []
  }
 ],
 "metadata": {
  "colab": {
   "provenance": []
  },
  "kernelspec": {
   "display_name": "Python 3 (ipykernel)",
   "language": "python",
   "name": "python3"
  },
  "language_info": {
   "codemirror_mode": {
    "name": "ipython",
    "version": 3
   },
   "file_extension": ".py",
   "mimetype": "text/x-python",
   "name": "python",
   "nbconvert_exporter": "python",
   "pygments_lexer": "ipython3",
   "version": "3.12.7"
  }
 },
 "nbformat": 4,
 "nbformat_minor": 4
}
